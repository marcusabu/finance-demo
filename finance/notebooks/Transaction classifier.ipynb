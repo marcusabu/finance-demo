{
 "cells": [
  {
   "cell_type": "code",
   "execution_count": 1,
   "metadata": {
    "pycharm": {
     "is_executing": false
    }
   },
   "outputs": [
    {
     "name": "stderr",
     "output_type": "stream",
     "text": [
      "Using TensorFlow backend.\n"
     ]
    }
   ],
   "source": [
    "from numpy import array\n",
    "from pprint import pprint\n",
    "from time import time\n",
    "from keras.preprocessing.text import one_hot\n",
    "from keras.preprocessing.sequence import pad_sequences\n",
    "from keras.models import Sequential\n",
    "from keras.layers.core import Activation, Dropout, Dense\n",
    "from keras.layers import Flatten, LSTM\n",
    "from keras.layers import GlobalMaxPooling1D\n",
    "from keras.models import Model\n",
    "from keras.layers.embeddings import Embedding\n",
    "from sklearn.model_selection import train_test_split\n",
    "from keras.preprocessing.text import Tokenizer\n",
    "from keras.layers import Input\n",
    "from keras.layers.merge import Concatenate\n",
    "from sklearn import tree\n",
    "from sklearn import naive_bayes\n",
    "from sklearn import svm, metrics, preprocessing\n",
    "from sklearn.feature_extraction.text import CountVectorizer\n",
    "from sklearn.naive_bayes import MultinomialNB\n",
    "from sklearn.feature_extraction.text import TfidfTransformer\n",
    "from sklearn.pipeline import Pipeline\n",
    "from sklearn.naive_bayes import MultinomialNB\n",
    "from sklearn.model_selection  import train_test_split\n",
    "from sklearn.linear_model import SGDClassifier\n",
    "from sklearn.neighbors import KNeighborsClassifier\n",
    "from sklearn.svm import SVC, NuSVC\n",
    "from sklearn.tree import DecisionTreeClassifier\n",
    "from sklearn.ensemble import GradientBoostingClassifier, RandomForestClassifier, AdaBoostClassifier, ExtraTreesClassifier\n",
    "from sklearn.naive_bayes import MultinomialNB\n",
    "from sklearn.model_selection import cross_val_score\n",
    "from sklearn.neural_network import MLPClassifier\n",
    "from sklearn.model_selection import GridSearchCV, RandomizedSearchCV\n",
    "import joblib\n",
    "import pickle\n",
    "import warnings\n",
    "warnings.filterwarnings('ignore')\n",
    "from sklearn import svm\n",
    "import pandas as pd\n",
    "import numpy as np\n",
    "import re\n",
    "\n",
    "import matplotlib.pyplot as plt"
   ]
  },
  {
   "cell_type": "code",
   "execution_count": 2,
   "metadata": {},
   "outputs": [
    {
     "data": {
      "text/html": [
       "<div>\n",
       "<style scoped>\n",
       "    .dataframe tbody tr th:only-of-type {\n",
       "        vertical-align: middle;\n",
       "    }\n",
       "\n",
       "    .dataframe tbody tr th {\n",
       "        vertical-align: top;\n",
       "    }\n",
       "\n",
       "    .dataframe thead th {\n",
       "        text-align: right;\n",
       "    }\n",
       "</style>\n",
       "<table border=\"1\" class=\"dataframe\">\n",
       "  <thead>\n",
       "    <tr style=\"text-align: right;\">\n",
       "      <th></th>\n",
       "      <th>Text</th>\n",
       "      <th>Category</th>\n",
       "    </tr>\n",
       "  </thead>\n",
       "  <tbody>\n",
       "    <tr>\n",
       "      <td>0</td>\n",
       "      <td>DIRK VDBROEK FIL4200</td>\n",
       "      <td>Boodschappen</td>\n",
       "    </tr>\n",
       "    <tr>\n",
       "      <td>1</td>\n",
       "      <td>AH5501 Amsterdam AMSTERDAM NLD</td>\n",
       "      <td>Boodschappen</td>\n",
       "    </tr>\n",
       "    <tr>\n",
       "      <td>2</td>\n",
       "      <td>J Jurg</td>\n",
       "      <td>Augustinus/Kartel</td>\n",
       "    </tr>\n",
       "    <tr>\n",
       "      <td>3</td>\n",
       "      <td>Jumbo Leiden Station LEIDEN NLD</td>\n",
       "      <td>Boodschappen</td>\n",
       "    </tr>\n",
       "    <tr>\n",
       "      <td>4</td>\n",
       "      <td>St. Expl. Eigen Huis LEIDEN NLD</td>\n",
       "      <td>Augustinus/Kartel</td>\n",
       "    </tr>\n",
       "    <tr>\n",
       "      <td>5</td>\n",
       "      <td>Aldi 040 Leiden LEIDEN NLD</td>\n",
       "      <td>Boodschappen</td>\n",
       "    </tr>\n",
       "    <tr>\n",
       "      <td>6</td>\n",
       "      <td>Albert Heijn 1565 OEGSTGEEST NLD</td>\n",
       "      <td>Boodschappen</td>\n",
       "    </tr>\n",
       "    <tr>\n",
       "      <td>7</td>\n",
       "      <td>bol.com b.v.</td>\n",
       "      <td>Winkels</td>\n",
       "    </tr>\n",
       "    <tr>\n",
       "      <td>8</td>\n",
       "      <td>HOOGVLIET 500 05 LEIDEN NLD</td>\n",
       "      <td>Boodschappen</td>\n",
       "    </tr>\n",
       "    <tr>\n",
       "      <td>9</td>\n",
       "      <td>Aldi 040 Leiden LEIDEN NLD</td>\n",
       "      <td>Boodschappen</td>\n",
       "    </tr>\n",
       "  </tbody>\n",
       "</table>\n",
       "</div>"
      ],
      "text/plain": [
       "                               Text           Category\n",
       "0              DIRK VDBROEK FIL4200       Boodschappen\n",
       "1    AH5501 Amsterdam AMSTERDAM NLD       Boodschappen\n",
       "2                            J Jurg  Augustinus/Kartel\n",
       "3   Jumbo Leiden Station LEIDEN NLD       Boodschappen\n",
       "4   St. Expl. Eigen Huis LEIDEN NLD  Augustinus/Kartel\n",
       "5        Aldi 040 Leiden LEIDEN NLD       Boodschappen\n",
       "6  Albert Heijn 1565 OEGSTGEEST NLD       Boodschappen\n",
       "7                      bol.com b.v.            Winkels\n",
       "8       HOOGVLIET 500 05 LEIDEN NLD       Boodschappen\n",
       "9        Aldi 040 Leiden LEIDEN NLD       Boodschappen"
      ]
     },
     "execution_count": 2,
     "metadata": {},
     "output_type": "execute_result"
    }
   ],
   "source": [
    "df_raw = pd.read_csv('transactions_export.csv', delimiter=';', header=None, names=['Text', 'Category'])\n",
    "df_raw.head(10)"
   ]
  },
  {
   "cell_type": "code",
   "execution_count": 3,
   "metadata": {},
   "outputs": [
    {
     "data": {
      "text/html": [
       "<div>\n",
       "<style scoped>\n",
       "    .dataframe tbody tr th:only-of-type {\n",
       "        vertical-align: middle;\n",
       "    }\n",
       "\n",
       "    .dataframe tbody tr th {\n",
       "        vertical-align: top;\n",
       "    }\n",
       "\n",
       "    .dataframe thead th {\n",
       "        text-align: right;\n",
       "    }\n",
       "</style>\n",
       "<table border=\"1\" class=\"dataframe\">\n",
       "  <thead>\n",
       "    <tr style=\"text-align: right;\">\n",
       "      <th></th>\n",
       "      <th>Text</th>\n",
       "      <th>Category</th>\n",
       "    </tr>\n",
       "  </thead>\n",
       "  <tbody>\n",
       "    <tr>\n",
       "      <td>0</td>\n",
       "      <td>dirk vdbroek fil</td>\n",
       "      <td>Boodschappen</td>\n",
       "    </tr>\n",
       "    <tr>\n",
       "      <td>1</td>\n",
       "      <td>ah amsterdam amsterdam nld</td>\n",
       "      <td>Boodschappen</td>\n",
       "    </tr>\n",
       "    <tr>\n",
       "      <td>2</td>\n",
       "      <td>jurg</td>\n",
       "      <td>Augustinus/Kartel</td>\n",
       "    </tr>\n",
       "    <tr>\n",
       "      <td>3</td>\n",
       "      <td>jumbo leiden station leiden nld</td>\n",
       "      <td>Boodschappen</td>\n",
       "    </tr>\n",
       "    <tr>\n",
       "      <td>4</td>\n",
       "      <td>st expl eigen huis leiden nld</td>\n",
       "      <td>Augustinus/Kartel</td>\n",
       "    </tr>\n",
       "    <tr>\n",
       "      <td>5</td>\n",
       "      <td>aldi leiden leiden nld</td>\n",
       "      <td>Boodschappen</td>\n",
       "    </tr>\n",
       "    <tr>\n",
       "      <td>6</td>\n",
       "      <td>albert heijn oegstgeest nld</td>\n",
       "      <td>Boodschappen</td>\n",
       "    </tr>\n",
       "    <tr>\n",
       "      <td>7</td>\n",
       "      <td>bol com</td>\n",
       "      <td>Winkels</td>\n",
       "    </tr>\n",
       "    <tr>\n",
       "      <td>8</td>\n",
       "      <td>hoogvliet leiden nld</td>\n",
       "      <td>Boodschappen</td>\n",
       "    </tr>\n",
       "    <tr>\n",
       "      <td>9</td>\n",
       "      <td>aldi leiden leiden nld</td>\n",
       "      <td>Boodschappen</td>\n",
       "    </tr>\n",
       "  </tbody>\n",
       "</table>\n",
       "</div>"
      ],
      "text/plain": [
       "                              Text           Category\n",
       "0                dirk vdbroek fil        Boodschappen\n",
       "1       ah amsterdam amsterdam nld       Boodschappen\n",
       "2                             jurg  Augustinus/Kartel\n",
       "3  jumbo leiden station leiden nld       Boodschappen\n",
       "4    st expl eigen huis leiden nld  Augustinus/Kartel\n",
       "5           aldi leiden leiden nld       Boodschappen\n",
       "6      albert heijn oegstgeest nld       Boodschappen\n",
       "7                         bol com             Winkels\n",
       "8             hoogvliet leiden nld       Boodschappen\n",
       "9           aldi leiden leiden nld       Boodschappen"
      ]
     },
     "execution_count": 3,
     "metadata": {},
     "output_type": "execute_result"
    }
   ],
   "source": [
    "def preprocess_text(text):\n",
    "    # Remove punctuations and numbers\n",
    "    text = re.sub('[^a-zA-Z]', ' ', text)\n",
    "\n",
    "    # Single character removal\n",
    "    text = re.sub(r'\\b\\w{1,1}\\b', ' ', text)\n",
    "\n",
    "    # Removing multiple spaces\n",
    "    text = re.sub(r'\\s+', ' ', text)\n",
    "\n",
    "    return text.lower()\n",
    "\n",
    "df = df_raw\n",
    "df['Text'] = df_raw['Text'].apply(preprocess_text)\n",
    "df.head(10)"
   ]
  },
  {
   "cell_type": "code",
   "execution_count": 4,
   "metadata": {},
   "outputs": [],
   "source": [
    "X = df['Text']\n",
    "le = preprocessing.LabelEncoder()\n",
    "y = le.fit_transform(df['Category'].tolist())"
   ]
  },
  {
   "cell_type": "code",
   "execution_count": 5,
   "metadata": {},
   "outputs": [
    {
     "name": "stdout",
     "output_type": "stream",
     "text": [
      "        Linear Support Vector Classifier         0.1801s\n",
      "                          SGD Classifier         0.1143s\n",
      "                Random Forest Classifier         0.1706s\n",
      "                 Multinomial Naive Bayes         0.0672s\n",
      "                   Bernoulli Naive Bayes          0.056s\n",
      "                     K-nearest Neighbors         0.1596s\n",
      "                           Decision Tree         0.0686s\n",
      "\n",
      "\n",
      "Results:\n",
      "        Linear Support Vector Classifier &           97.67\\% &         0.1801s \\\\ \n",
      "                          SGD Classifier &           97.67\\% &         0.1143s \\\\ \n",
      "                Random Forest Classifier &           96.98\\% &         0.1706s \\\\ \n",
      "                           Decision Tree &           96.35\\% &         0.0686s \\\\ \n",
      "                     K-nearest Neighbors &           95.05\\% &         0.1596s \\\\ \n",
      "                 Multinomial Naive Bayes &           92.86\\% &         0.0672s \\\\ \n",
      "                   Bernoulli Naive Bayes &           85.48\\% &          0.056s \\\\ \n",
      "\n",
      "Failures:\n"
     ]
    }
   ],
   "source": [
    "algorithms = {\n",
    "    \"Linear Support Vector Classifier\": svm.LinearSVC(),\n",
    "    \"SGD Classifier\": SGDClassifier(),\n",
    "    \"Random Forest Classifier\": RandomForestClassifier(),\n",
    "    \"Multinomial Naive Bayes\": naive_bayes.MultinomialNB(),\n",
    "    \"Bernoulli Naive Bayes\":naive_bayes.BernoulliNB(),\n",
    "    \"K-nearest Neighbors\": KNeighborsClassifier(n_neighbors=5),\n",
    "    \"Decision Tree\": tree.DecisionTreeClassifier()\n",
    "}\n",
    "\n",
    "scores = []\n",
    "failures = []\n",
    "\n",
    "for name, sk_class in algorithms.items():\n",
    "    text_clf = Pipeline([('vect', CountVectorizer()),\n",
    "                ('tfidf', TfidfTransformer()),\n",
    "                ('clf', sk_class),\n",
    "    ])\n",
    "    start = time()\n",
    "    score = cross_val_score(text_clf, X, y, cv=5)\n",
    "    end = time()\n",
    "    time_elapsed = str(round(end - start, 4)) + \"s\"\n",
    "    scores.append([score.mean()*100, name, time_elapsed])\n",
    "    print(\"{: >40} {: >15}\".format(name, time_elapsed))\n",
    "\n",
    "print(\"\\n\\nResults:\")\n",
    "for score in sorted(scores, key=lambda x: 1 - x[0]):\n",
    "    print(\"{: >40} & {: >15}\\% & {: >15} \\\\\\ \".format(score[1], round(score[0], 2), score[2]))\n",
    "    \n",
    "print(\"\\nFailures:\")\n",
    "for x in failures:\n",
    "    print(x)"
   ]
  },
  {
   "cell_type": "code",
   "execution_count": 6,
   "metadata": {},
   "outputs": [
    {
     "name": "stdout",
     "output_type": "stream",
     "text": [
      "99.375\n",
      "                   precision    recall  f1-score   support\n",
      "\n",
      "Augustinus/Kartel       0.94      1.00      0.97        15\n",
      "     Boodschappen       1.00      1.00      1.00       115\n",
      "             Eten       0.98      1.00      0.99        54\n",
      "          Kleding       1.00      0.88      0.93         8\n",
      "             Loon       1.00      1.00      1.00         5\n",
      "     Nacht winkel       1.00      1.00      1.00         3\n",
      "               OV       1.00      1.00      1.00        14\n",
      "           Pinnen       1.00      1.00      1.00         1\n",
      "    Spaarrekening       1.00      1.00      1.00        23\n",
      "         Telefoon       1.00      1.00      1.00         3\n",
      "Uitgaan/festivals       1.00      0.88      0.93         8\n",
      "   Vaste cashflow       1.00      1.00      1.00        47\n",
      "         Vrienden       1.00      1.00      1.00        16\n",
      "          Winkels       1.00      1.00      1.00         8\n",
      "\n",
      "         accuracy                           0.99       320\n",
      "        macro avg       0.99      0.98      0.99       320\n",
      "     weighted avg       0.99      0.99      0.99       320\n",
      "\n"
     ]
    }
   ],
   "source": [
    "X_train, X_test, y_train, y_test = train_test_split(X, y, test_size=0.2, random_state=3)          \n",
    "\n",
    "pipeline = Pipeline([('vect', CountVectorizer()),\n",
    "                    ('tfidf', TfidfTransformer()),\n",
    "                    ('clf', svm.LinearSVC()),\n",
    "])\n",
    "text_clf = pipeline\n",
    "text_clf.fit(X_train, y_train)\n",
    "svm_predictions = text_clf.predict(X_test)\n",
    "\n",
    "print(metrics.accuracy_score(y_test, svm_predictions)*100)\n",
    "target_names = le.inverse_transform(np.unique(np.sort(y_test).tolist()))\n",
    "print(metrics.classification_report(y_test, svm_predictions, target_names=target_names))"
   ]
  },
  {
   "cell_type": "code",
   "execution_count": 7,
   "metadata": {},
   "outputs": [
    {
     "name": "stdout",
     "output_type": "stream",
     "text": [
      "No. 223 input, studentendiscotheek leiden nld , has been classified as Augustinus/Kartel and should be Uitgaan/festivals\n",
      "No. 270 input, primark netherlands  , has been classified as Eten and should be Kleding\n"
     ]
    }
   ],
   "source": [
    "predictions = le.inverse_transform(svm_predictions)\n",
    "actual = le.inverse_transform(y_test)\n",
    "\n",
    "for idx, input, prediction, label in zip(enumerate(X_test), X_test, predictions, actual):\n",
    "    if prediction != label:\n",
    "        print(\"No.\", idx[0], 'input,',input, ', has been classified as', prediction, 'and should be', label)"
   ]
  },
  {
   "cell_type": "code",
   "execution_count": 8,
   "metadata": {},
   "outputs": [
    {
     "name": "stdout",
     "output_type": "stream",
     "text": [
      "Augustinus/Kartel\n"
     ]
    }
   ],
   "source": [
    "def predict_label(transaction_text):\n",
    "    input_text = preprocess_text(transaction_text)\n",
    "    prediction = text_clf.predict([input_text])\n",
    "    predicted_label = le.inverse_transform([prediction])\n",
    "    print(predicted_label[0])\n",
    "    \n",
    "predict_label(\"augustinus\")"
   ]
  },
  {
   "cell_type": "code",
   "execution_count": 9,
   "metadata": {},
   "outputs": [
    {
     "data": {
      "text/plain": [
       "['../model.pkl']"
      ]
     },
     "execution_count": 9,
     "metadata": {},
     "output_type": "execute_result"
    }
   ],
   "source": [
    "joblib.dump(predict_label, '../model.pkl', protocol=2)"
   ]
  },
  {
   "cell_type": "code",
   "execution_count": null,
   "metadata": {},
   "outputs": [],
   "source": []
  }
 ],
 "metadata": {
  "kernelspec": {
   "display_name": "Python 3",
   "language": "python",
   "name": "python3"
  },
  "language_info": {
   "codemirror_mode": {
    "name": "ipython",
    "version": 3
   },
   "file_extension": ".py",
   "mimetype": "text/x-python",
   "name": "python",
   "nbconvert_exporter": "python",
   "pygments_lexer": "ipython3",
   "version": "3.7.4"
  },
  "pycharm": {
   "stem_cell": {
    "cell_type": "raw",
    "metadata": {
     "collapsed": false
    },
    "source": []
   }
  }
 },
 "nbformat": 4,
 "nbformat_minor": 2
}
